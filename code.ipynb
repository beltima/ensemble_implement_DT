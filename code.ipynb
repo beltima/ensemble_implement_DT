{
 "cells": [
  {
   "cell_type": "code",
   "execution_count": 1,
   "metadata": {},
   "outputs": [],
   "source": [
    "import pandas as pd\n"
   ]
  },
  {
   "cell_type": "code",
   "execution_count": 10,
   "metadata": {},
   "outputs": [],
   "source": [
    "column_name = [ 'variance', \n",
    "               'skewness', \n",
    "               'curtosis', \n",
    "               'entropy',\n",
    "               'class']\n",
    "df = pd.read_csv('data_banknote_authentication.csv', header=None, names=column_name)"
   ]
  },
  {
   "cell_type": "code",
   "execution_count": 11,
   "metadata": {},
   "outputs": [
    {
     "data": {
      "text/html": [
       "<div>\n",
       "<style scoped>\n",
       "    .dataframe tbody tr th:only-of-type {\n",
       "        vertical-align: middle;\n",
       "    }\n",
       "\n",
       "    .dataframe tbody tr th {\n",
       "        vertical-align: top;\n",
       "    }\n",
       "\n",
       "    .dataframe thead th {\n",
       "        text-align: right;\n",
       "    }\n",
       "</style>\n",
       "<table border=\"1\" class=\"dataframe\">\n",
       "  <thead>\n",
       "    <tr style=\"text-align: right;\">\n",
       "      <th></th>\n",
       "      <th>variance</th>\n",
       "      <th>skewness</th>\n",
       "      <th>curtosis</th>\n",
       "      <th>entropy</th>\n",
       "      <th>class</th>\n",
       "    </tr>\n",
       "  </thead>\n",
       "  <tbody>\n",
       "    <tr>\n",
       "      <th>0</th>\n",
       "      <td>3.62160</td>\n",
       "      <td>8.6661</td>\n",
       "      <td>-2.8073</td>\n",
       "      <td>-0.44699</td>\n",
       "      <td>0</td>\n",
       "    </tr>\n",
       "    <tr>\n",
       "      <th>1</th>\n",
       "      <td>4.54590</td>\n",
       "      <td>8.1674</td>\n",
       "      <td>-2.4586</td>\n",
       "      <td>-1.46210</td>\n",
       "      <td>0</td>\n",
       "    </tr>\n",
       "    <tr>\n",
       "      <th>2</th>\n",
       "      <td>3.86600</td>\n",
       "      <td>-2.6383</td>\n",
       "      <td>1.9242</td>\n",
       "      <td>0.10645</td>\n",
       "      <td>0</td>\n",
       "    </tr>\n",
       "    <tr>\n",
       "      <th>3</th>\n",
       "      <td>3.45660</td>\n",
       "      <td>9.5228</td>\n",
       "      <td>-4.0112</td>\n",
       "      <td>-3.59440</td>\n",
       "      <td>0</td>\n",
       "    </tr>\n",
       "    <tr>\n",
       "      <th>4</th>\n",
       "      <td>0.32924</td>\n",
       "      <td>-4.4552</td>\n",
       "      <td>4.5718</td>\n",
       "      <td>-0.98880</td>\n",
       "      <td>0</td>\n",
       "    </tr>\n",
       "  </tbody>\n",
       "</table>\n",
       "</div>"
      ],
      "text/plain": [
       "   variance  skewness  curtosis  entropy  class\n",
       "0   3.62160    8.6661   -2.8073 -0.44699      0\n",
       "1   4.54590    8.1674   -2.4586 -1.46210      0\n",
       "2   3.86600   -2.6383    1.9242  0.10645      0\n",
       "3   3.45660    9.5228   -4.0112 -3.59440      0\n",
       "4   0.32924   -4.4552    4.5718 -0.98880      0"
      ]
     },
     "execution_count": 11,
     "metadata": {},
     "output_type": "execute_result"
    }
   ],
   "source": [
    "df.head()"
   ]
  },
  {
   "cell_type": "code",
   "execution_count": 22,
   "metadata": {},
   "outputs": [],
   "source": [
    "#compute the gini index for a split\n",
    "def gini_index(splits, classes):\n",
    "   n_samples = float(sum([len(branch) for branch in splits])) #count the number of samples in total\n",
    "   \n",
    "   #gini index for each branch\n",
    "   gini = 0.0\n",
    "   for branch in splits:\n",
    "      size = float(len( branch)) \n",
    "\n",
    "      if size == 0:\n",
    "         continue #avoid divide by 0\n",
    "      score = 0.0\n",
    "\n",
    "      for val in classes:\n",
    "         n = [row[-1] for row in branch].count(val) / size\n",
    "         score += n * n #score the branch based on each class's score\n",
    "\n",
    "      gini += (1.0 - score) * (size / n_samples) #calculate the branch score by the size \n",
    "   return gini"
   ]
  },
  {
   "cell_type": "code",
   "execution_count": 25,
   "metadata": {},
   "outputs": [
    {
     "name": "stdout",
     "output_type": "stream",
     "text": [
      "0.5\n",
      "0.0\n",
      "0.48\n"
     ]
    }
   ],
   "source": [
    "#test\n",
    "print(gini_index([[[1, 1], [1, 0]], [[1, 1], [1, 0]]], [0, 1]))\n",
    "print(gini_index([[[1, 0], [1, 0]], [[1, 1], [1, 1]]], [0, 1]))\n",
    "\n",
    "group1 = [[2, 0], [4, 0], [6, 0], [8, 1], [10, 1]]\n",
    "group2 = [[1, 1], [3, 1], [5, 0], [7, 0], [9, 0]]\n",
    "classes = [0, 1]\n",
    "print(gini_index([group1, group2], classes))"
   ]
  },
  {
   "cell_type": "code",
   "execution_count": 47,
   "metadata": {},
   "outputs": [],
   "source": [
    "#split dataset based on a feature and a value before calculating the gini index\n",
    "def test_split(index, value, dataset):\n",
    "    left_branch = []\n",
    "    right_branch = []\n",
    "    for row in dataset:\n",
    "        left_branch.append(row) if row[index] < value else right_branch.append(row)\n",
    "    return left_branch, right_branch\n",
    "#create left and right branch\n",
    "#assign to the left if the value of a row on an index is smaller than value"
   ]
  },
  {
   "cell_type": "code",
   "execution_count": 86,
   "metadata": {},
   "outputs": [],
   "source": [
    "#get the best split based on the gini index calculated for each split \n",
    "def get_split(dataset):\n",
    "  class_values = list(set(row[-1] for row in dataset)) #get all the class values\n",
    "  best_feature, best_value, best_gini, best_branches = 1000000, 1000000, 1000000, None\n",
    "  \n",
    "  #first go through each feature, then go through each row\n",
    "  #within each row, the value of the feature will be used to calculate split and gini\n",
    "  for index, feature in enumerate(dataset[0][:-1]):\n",
    "    for row in dataset:\n",
    "      branches = test_split(index, row[index], dataset)\n",
    "      gini = gini_index(branches, class_values)\n",
    "      print(f'Feature {index} < {row[index]:.3f} Gini={gini:.3f}')\n",
    "      if gini < best_gini:\n",
    "        best_feature, best_value, best_gini, best_branches = index, row[index], gini, branches\n",
    "  return {'feature/index':best_feature, 'value':best_value, 'branches':best_branches}"
   ]
  },
  {
   "cell_type": "code",
   "execution_count": 87,
   "metadata": {},
   "outputs": [
    {
     "name": "stdout",
     "output_type": "stream",
     "text": [
      "Feature 0 < 2.771 Gini=0.444\n",
      "Feature 0 < 1.729 Gini=0.500\n",
      "Feature 0 < 3.678 Gini=0.286\n",
      "Feature 0 < 3.961 Gini=0.167\n",
      "Feature 0 < 2.999 Gini=0.375\n",
      "Feature 0 < 7.498 Gini=0.286\n",
      "Feature 0 < 9.002 Gini=0.375\n",
      "Feature 0 < 7.445 Gini=0.167\n",
      "Feature 0 < 10.125 Gini=0.444\n",
      "Feature 0 < 6.642 Gini=0.000\n",
      "Feature 1 < 1.785 Gini=0.500\n",
      "Feature 1 < 1.170 Gini=0.444\n",
      "Feature 1 < 2.813 Gini=0.320\n",
      "Feature 1 < 2.620 Gini=0.417\n",
      "Feature 1 < 2.209 Gini=0.476\n",
      "Feature 1 < 3.163 Gini=0.167\n",
      "Feature 1 < 3.339 Gini=0.444\n",
      "Feature 1 < 0.477 Gini=0.500\n",
      "Feature 1 < 3.235 Gini=0.286\n",
      "Feature 1 < 3.320 Gini=0.375\n",
      "The best split: [Feature 0 < 6.642]\n"
     ]
    }
   ],
   "source": [
    "dataset = [[2.771244718,1.784783929,0],\n",
    " [1.728571309,1.169761413,0],\n",
    " [3.678319846,2.81281357,0],\n",
    " [3.961043357,2.61995032,0],\n",
    " [2.999208922,2.209014212,0],\n",
    " [7.497545867,3.162953546,1],\n",
    " [9.00220326,3.339047188,1],\n",
    " [7.444542326,0.476683375,1],\n",
    " [10.12493903,3.234550982,1],\n",
    " [6.642287351,3.319983761,1]]\n",
    "split = get_split(dataset)\n",
    "print(f\"The best split: [Feature {split['feature/index']} < {split['value']:.3f}]\")"
   ]
  },
  {
   "cell_type": "code",
   "execution_count": 97,
   "metadata": {},
   "outputs": [],
   "source": [
    "#decide which class this node belomngs to by checking the most common class among the branch nodes\n",
    "def to_terminal(branch):\n",
    " outcomes = [row[-1] for row in branch]\n",
    " return max(set(outcomes), key=outcomes.count)"
   ]
  },
  {
   "cell_type": "code",
   "execution_count": 98,
   "metadata": {},
   "outputs": [],
   "source": [
    "#create child nodes or terminal node \n",
    "def split(node, max_depth, min_row_size, depth):\n",
    " left, right = node['branches']\n",
    " del(node['branches']) #remove to save memory \n",
    "\n",
    " #check for a no split, if either left or right is empty then create a terminal node\n",
    " #no more features to split on and the tree should stop growing\n",
    " if not left or not right:\n",
    "   node['left'] = node['right'] = to_terminal(left + right)\n",
    "   return \n",
    " \n",
    " #check for max depth, if max is reached, make terminal nodes for both left and right branches\n",
    " if depth >= max_depth:\n",
    "   node['left'], node['right'] = to_terminal(left), to_terminal(right)\n",
    "   return\n",
    " \n",
    " #process left child\n",
    " #if the number of data points in the child node is less than or equal to min_row_size, create a terminal node\n",
    " if len(left) <= min_row_size:\n",
    "   node['left'] = to_terminal(left)\n",
    " else:\n",
    "   node['left'] = get_split(left)\n",
    "   split(node['left'], max_depth, min_row_size, depth+1)\n",
    "   \n",
    " #process right child\n",
    " if len(right) <= min_row_size:\n",
    "   node['right'] = to_terminal(right)\n",
    " else:\n",
    "   node['right'] = get_split(right)\n",
    "   split(node['right'], max_depth, min_row_size, depth+1)"
   ]
  },
  {
   "cell_type": "code",
   "execution_count": 99,
   "metadata": {},
   "outputs": [],
   "source": [
    "# Build a decision tree\n",
    "def build_tree(train, max_depth, min_size):\n",
    " root = get_split(train)\n",
    " split(root, max_depth, min_size, 1)\n",
    " return root"
   ]
  },
  {
   "cell_type": "code",
   "execution_count": 104,
   "metadata": {},
   "outputs": [],
   "source": [
    "# Print a decision tree\n",
    "def print_tree(node, depth=0):\n",
    " if isinstance(node, dict):\n",
    "   print('%s[X%d < %.3f]' % ((depth*' ', (node['feature/index']), node['value'])))\n",
    "   print_tree(node['left'], depth+1)\n",
    "   print_tree(node['right'], depth+1)\n",
    " else:\n",
    "   print('%s[%s]' % ((depth*' ', node)))"
   ]
  },
  {
   "cell_type": "code",
   "execution_count": 105,
   "metadata": {},
   "outputs": [
    {
     "name": "stdout",
     "output_type": "stream",
     "text": [
      "Feature 0 < 2.771 Gini=0.444\n",
      "Feature 0 < 1.729 Gini=0.500\n",
      "Feature 0 < 3.678 Gini=0.286\n",
      "Feature 0 < 3.961 Gini=0.167\n",
      "Feature 0 < 2.999 Gini=0.375\n",
      "Feature 0 < 7.498 Gini=0.286\n",
      "Feature 0 < 9.002 Gini=0.375\n",
      "Feature 0 < 7.445 Gini=0.167\n",
      "Feature 0 < 10.125 Gini=0.444\n",
      "Feature 0 < 6.642 Gini=0.000\n",
      "Feature 1 < 1.785 Gini=0.500\n",
      "Feature 1 < 1.170 Gini=0.444\n",
      "Feature 1 < 2.813 Gini=0.320\n",
      "Feature 1 < 2.620 Gini=0.417\n",
      "Feature 1 < 2.209 Gini=0.476\n",
      "Feature 1 < 3.163 Gini=0.167\n",
      "Feature 1 < 3.339 Gini=0.444\n",
      "Feature 1 < 0.477 Gini=0.500\n",
      "Feature 1 < 3.235 Gini=0.286\n",
      "Feature 1 < 3.320 Gini=0.375\n",
      "Feature 0 < 2.771 Gini=0.000\n",
      "Feature 0 < 1.729 Gini=0.000\n",
      "Feature 0 < 3.678 Gini=0.000\n",
      "Feature 0 < 3.961 Gini=0.000\n",
      "Feature 0 < 2.999 Gini=0.000\n",
      "Feature 1 < 1.785 Gini=0.000\n",
      "Feature 1 < 1.170 Gini=0.000\n",
      "Feature 1 < 2.813 Gini=0.000\n",
      "Feature 1 < 2.620 Gini=0.000\n",
      "Feature 1 < 2.209 Gini=0.000\n",
      "Feature 0 < 2.771 Gini=0.000\n",
      "Feature 0 < 3.678 Gini=0.000\n",
      "Feature 0 < 3.961 Gini=0.000\n",
      "Feature 0 < 2.999 Gini=0.000\n",
      "Feature 1 < 1.785 Gini=0.000\n",
      "Feature 1 < 2.813 Gini=0.000\n",
      "Feature 1 < 2.620 Gini=0.000\n",
      "Feature 1 < 2.209 Gini=0.000\n",
      "Feature 0 < 7.498 Gini=0.000\n",
      "Feature 0 < 9.002 Gini=0.000\n",
      "Feature 0 < 7.445 Gini=0.000\n",
      "Feature 0 < 10.125 Gini=0.000\n",
      "Feature 0 < 6.642 Gini=0.000\n",
      "Feature 1 < 3.163 Gini=0.000\n",
      "Feature 1 < 3.339 Gini=0.000\n",
      "Feature 1 < 0.477 Gini=0.000\n",
      "Feature 1 < 3.235 Gini=0.000\n",
      "Feature 1 < 3.320 Gini=0.000\n",
      "Feature 0 < 7.445 Gini=0.000\n",
      "Feature 0 < 6.642 Gini=0.000\n",
      "Feature 1 < 0.477 Gini=0.000\n",
      "Feature 1 < 3.320 Gini=0.000\n",
      "Feature 0 < 7.498 Gini=0.000\n",
      "Feature 0 < 9.002 Gini=0.000\n",
      "Feature 0 < 10.125 Gini=0.000\n",
      "Feature 1 < 3.163 Gini=0.000\n",
      "Feature 1 < 3.339 Gini=0.000\n",
      "Feature 1 < 3.235 Gini=0.000\n",
      "[X0 < 6.642]\n",
      " [X0 < 2.771]\n",
      "  [0]\n",
      "  [X0 < 2.771]\n",
      "   [0]\n",
      "   [0]\n",
      " [X0 < 7.498]\n",
      "  [X0 < 7.445]\n",
      "   [1]\n",
      "   [1]\n",
      "  [X0 < 7.498]\n",
      "   [1]\n",
      "   [1]\n"
     ]
    }
   ],
   "source": [
    "dataset = [[2.771244718,1.784783929,0],\n",
    " [1.728571309,1.169761413,0],\n",
    " [3.678319846,2.81281357,0],\n",
    " [3.961043357,2.61995032,0],\n",
    " [2.999208922,2.209014212,0],\n",
    " [7.497545867,3.162953546,1],\n",
    " [9.00220326,3.339047188,1],\n",
    " [7.444542326,0.476683375,1],\n",
    " [10.12493903,3.234550982,1],\n",
    " [6.642287351,3.319983761,1]]\n",
    "tree = build_tree(dataset, 3, 1)\n",
    "print_tree(tree)"
   ]
  },
  {
   "cell_type": "code",
   "execution_count": 106,
   "metadata": {},
   "outputs": [],
   "source": [
    "# Make a prediction with a decision tree\n",
    "def predict(node, row):\n",
    " if row[node['index']] < node['value']:\n",
    "   if isinstance(node['left'], dict):\n",
    "    return predict(node['left'], row)\n",
    "   else:\n",
    "    return node['left']\n",
    " else:\n",
    "   if isinstance(node['right'], dict):\n",
    "    return predict(node['right'], row)\n",
    "   else:\n",
    "    return node['right']"
   ]
  },
  {
   "cell_type": "code",
   "execution_count": 107,
   "metadata": {},
   "outputs": [
    {
     "name": "stdout",
     "output_type": "stream",
     "text": [
      "Expected=0, Got=0\n",
      "Expected=0, Got=0\n",
      "Expected=0, Got=0\n",
      "Expected=0, Got=0\n",
      "Expected=0, Got=0\n",
      "Expected=1, Got=1\n",
      "Expected=1, Got=1\n",
      "Expected=1, Got=1\n",
      "Expected=1, Got=1\n",
      "Expected=1, Got=1\n"
     ]
    }
   ],
   "source": [
    "dataset = [[2.771244718,1.784783929,0],\n",
    " [1.728571309,1.169761413,0],\n",
    " [3.678319846,2.81281357,0],\n",
    " [3.961043357,2.61995032,0],\n",
    " [2.999208922,2.209014212,0],\n",
    " [7.497545867,3.162953546,1],\n",
    " [9.00220326,3.339047188,1],\n",
    " [7.444542326,0.476683375,1],\n",
    " [10.12493903,3.234550982,1],\n",
    " [6.642287351,3.319983761,1]]\n",
    " \n",
    "#predict with a stump\n",
    "stump = {'index': 0, 'right': 1, 'value': 6.642287351, 'left': 0}\n",
    "for row in dataset:\n",
    " prediction = predict(stump, row)\n",
    " print('Expected=%d, Got=%d' % (row[-1], prediction))"
   ]
  },
  {
   "cell_type": "code",
   "execution_count": null,
   "metadata": {},
   "outputs": [],
   "source": []
  }
 ],
 "metadata": {
  "kernelspec": {
   "display_name": "Python 3",
   "language": "python",
   "name": "python3"
  },
  "language_info": {
   "codemirror_mode": {
    "name": "ipython",
    "version": 3
   },
   "file_extension": ".py",
   "mimetype": "text/x-python",
   "name": "python",
   "nbconvert_exporter": "python",
   "pygments_lexer": "ipython3",
   "version": "3.7.4"
  },
  "orig_nbformat": 4
 },
 "nbformat": 4,
 "nbformat_minor": 2
}
